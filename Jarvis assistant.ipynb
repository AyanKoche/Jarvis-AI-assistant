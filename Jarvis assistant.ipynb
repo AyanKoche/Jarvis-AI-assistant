{
 "cells": [
  {
   "cell_type": "code",
   "execution_count": 2,
   "id": "3c4d5908",
   "metadata": {},
   "outputs": [
    {
     "name": "stdout",
     "output_type": "stream",
     "text": [
      "Defaulting to user installation because normal site-packages is not writeable\n",
      "Requirement already satisfied: speechRecognition in c:\\users\\koche\\appdata\\roaming\\python\\python38\\site-packages (3.8.1)\n"
     ]
    }
   ],
   "source": [
    "!pip install speechRecognition"
   ]
  },
  {
   "cell_type": "code",
   "execution_count": 15,
   "id": "22346525",
   "metadata": {},
   "outputs": [
    {
     "name": "stdout",
     "output_type": "stream",
     "text": [
      "Defaulting to user installation because normal site-packages is not writeable\n",
      "Processing c:\\users\\koche\\pipwin\\pyaudio-0.2.11-cp38-cp38-win32.whl\n",
      "PyAudio is already installed with the same version as the provided wheel. Use --force-reinstall to force an installation of the wheel.\n",
      "Package `pyaudio` found in cache\n",
      "Downloading package . . .\n",
      "https://download.lfd.uci.edu/pythonlibs/y2rycu7g/PyAudio-0.2.11-cp38-cp38-win32.whl\n",
      "PyAudio-0.2.11-cp38-cp38-win32.whl\n",
      "File C:\\Users\\koche\\pipwin\\PyAudio-0.2.11-cp38-cp38-win32.whl already exists\n"
     ]
    }
   ],
   "source": [
    "!pipwin install pyaudio"
   ]
  },
  {
   "cell_type": "code",
   "execution_count": 4,
   "id": "dbee845a",
   "metadata": {},
   "outputs": [],
   "source": [
    "import pyttsx3"
   ]
  },
  {
   "cell_type": "code",
   "execution_count": 5,
   "id": "a5ed7c4d",
   "metadata": {},
   "outputs": [],
   "source": [
    "engine=pyttsx3.init('sapi5')\n",
    "voices=engine.getProperty('voices')"
   ]
  },
  {
   "cell_type": "code",
   "execution_count": 6,
   "id": "01e65b4e",
   "metadata": {},
   "outputs": [],
   "source": [
    "engine.setProperty('voice',voices[1].id)"
   ]
  },
  {
   "cell_type": "code",
   "execution_count": 7,
   "id": "1a7430b9",
   "metadata": {},
   "outputs": [],
   "source": [
    "def speak(audio):\n",
    "    engine.say(audio)\n",
    "    engine.runAndWait()"
   ]
  },
  {
   "cell_type": "code",
   "execution_count": 8,
   "id": "f67dede7",
   "metadata": {},
   "outputs": [],
   "source": [
    "import datetime"
   ]
  },
  {
   "cell_type": "code",
   "execution_count": 9,
   "id": "2b28e574",
   "metadata": {},
   "outputs": [],
   "source": [
    " import speech_recognition as sr"
   ]
  },
  {
   "cell_type": "code",
   "execution_count": 10,
   "id": "ce3a6f5d",
   "metadata": {},
   "outputs": [],
   "source": [
    " def wishMe():\n",
    "        hour=int(datetime.datetime.now().hour)\n",
    "        if hour>=0 and hour<12:\n",
    "            speak(\"Good Morning\")\n",
    "        elif hour>=12 and hour<18:\n",
    "            speak(\"Good Afternoon\")\n",
    "        else:\n",
    "            speak(\"Good Evening\")\n",
    "            \n",
    "        speak(\"I am Jarvis Sir. How may I help you?\")"
   ]
  },
  {
   "cell_type": "code",
   "execution_count": 11,
   "id": "84963212",
   "metadata": {},
   "outputs": [],
   "source": [
    "def takeCommand():\n",
    "    r=sr.Recognizer()\n",
    "    with sr.Microphone() as source:\n",
    "        print(\"Listening...\")\n",
    "        audio=r.listen(source)\n",
    "        \n",
    "    try:\n",
    "        print(\"Recognizing...\")\n",
    "        query=r.recognize_google(audio,language=\"en-in\")\n",
    "        print(f\"User said: {query}\\n\")\n",
    "    except Exception as e:\n",
    "        print(\"Failed to recognize!! say that again please..\")\n",
    "        return \"None\"\n",
    "    \n",
    "    return query"
   ]
  },
  {
   "cell_type": "code",
   "execution_count": 12,
   "id": "e22a75c1",
   "metadata": {},
   "outputs": [
    {
     "name": "stdout",
     "output_type": "stream",
     "text": [
      "Defaulting to user installation because normal site-packages is not writeable\n",
      "Requirement already satisfied: wikipedia in c:\\users\\koche\\appdata\\roaming\\python\\python38\\site-packages (1.4.0)\n",
      "Requirement already satisfied: beautifulsoup4 in c:\\users\\koche\\appdata\\roaming\\python\\python38\\site-packages (from wikipedia) (4.10.0)\n",
      "Requirement already satisfied: requests<3.0.0,>=2.0.0 in c:\\users\\koche\\appdata\\roaming\\python\\python38\\site-packages (from wikipedia) (2.24.0)\n",
      "Requirement already satisfied: certifi>=2017.4.17 in c:\\users\\koche\\appdata\\roaming\\python\\python38\\site-packages (from requests<3.0.0,>=2.0.0->wikipedia) (2020.6.20)\n",
      "Requirement already satisfied: idna<3,>=2.5 in c:\\users\\koche\\appdata\\roaming\\python\\python38\\site-packages (from requests<3.0.0,>=2.0.0->wikipedia) (2.10)\n",
      "Requirement already satisfied: urllib3!=1.25.0,!=1.25.1,<1.26,>=1.21.1 in c:\\users\\koche\\appdata\\roaming\\python\\python38\\site-packages (from requests<3.0.0,>=2.0.0->wikipedia) (1.25.11)\n",
      "Requirement already satisfied: chardet<4,>=3.0.2 in c:\\users\\koche\\appdata\\roaming\\python\\python38\\site-packages (from requests<3.0.0,>=2.0.0->wikipedia) (3.0.4)\n",
      "Requirement already satisfied: soupsieve>1.2 in c:\\users\\koche\\appdata\\roaming\\python\\python38\\site-packages (from beautifulsoup4->wikipedia) (2.2.1)\n"
     ]
    }
   ],
   "source": [
    "!pip install wikipedia"
   ]
  },
  {
   "cell_type": "code",
   "execution_count": 13,
   "id": "07b16e73",
   "metadata": {},
   "outputs": [],
   "source": [
    "import wikipedia\n",
    "import webbrowser\n",
    "import os"
   ]
  },
  {
   "cell_type": "code",
   "execution_count": 14,
   "id": "c0eca413",
   "metadata": {},
   "outputs": [
    {
     "name": "stdout",
     "output_type": "stream",
     "text": [
      "Listening...\n",
      "Recognizing...\n",
      "User said: quit\n",
      "\n"
     ]
    }
   ],
   "source": [
    "if __name__ ==\"__main__\":\n",
    "    count=1;\n",
    "    wishMe()\n",
    "    if count==1:\n",
    "        query=takeCommand().lower()\n",
    "        \n",
    "        if 'wikipedia' in query:\n",
    "            speak(\"Searching Wikipedia...\")\n",
    "            query=query.replace(\"wikipedia\",\"\")\n",
    "            results=wikipedia.summary(query,sentences=2)\n",
    "            print(results)\n",
    "            speak(\"According to wikipedia\")\n",
    "            speak(results)\n",
    "            \n",
    "        elif 'open youtube' in query:\n",
    "            webbrowser.open(\"youtube.com\")\n",
    "            \n",
    "        elif 'open google' in query:\n",
    "            webbrowser.open(\"google.com\")\n",
    "        \n",
    "        elif 'open spotify' in query:\n",
    "            spotifyPath=\"C:\\\\Users\\\\koche\\\\AppData\\\\Roaming\\\\Spotify\\\\Spotify.exe\"\n",
    "            os.startfile(spotifyPath)\n",
    "            \n",
    "        elif 'the time' in query:\n",
    "            strTime=datetime.datetime.now().strftime(\"%H:%M:%S\")\n",
    "            print(strTime)\n",
    "            speak(f\"The time is {strTime}\")\n",
    "            \n",
    "        elif 'quit' in query:\n",
    "            speak(\"Thank you!! Quitting Jarvis\");\n",
    "            count=0;"
   ]
  },
  {
   "cell_type": "code",
   "execution_count": null,
   "id": "8eb5ee7b",
   "metadata": {},
   "outputs": [],
   "source": []
  },
  {
   "cell_type": "code",
   "execution_count": null,
   "id": "af2a5dbf",
   "metadata": {},
   "outputs": [],
   "source": []
  }
 ],
 "metadata": {
  "kernelspec": {
   "display_name": "Python 3",
   "language": "python",
   "name": "python3"
  },
  "language_info": {
   "codemirror_mode": {
    "name": "ipython",
    "version": 3
   },
   "file_extension": ".py",
   "mimetype": "text/x-python",
   "name": "python",
   "nbconvert_exporter": "python",
   "pygments_lexer": "ipython3",
   "version": "3.8.5"
  }
 },
 "nbformat": 4,
 "nbformat_minor": 5
}
